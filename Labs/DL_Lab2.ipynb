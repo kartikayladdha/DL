{
  "nbformat": 4,
  "nbformat_minor": 0,
  "metadata": {
    "colab": {
      "name": "DL_Lab2.ipynb",
      "provenance": [],
      "collapsed_sections": [
        "MmXdKbH-RV5P",
        "wLsgXfT8SKuT",
        "t0FhvtLNSeML",
        "p81qyVViSrMq",
        "a8oISRLQS7pA",
        "OCdsPIk8VZ3B",
        "MPTyJvv-efAz",
        "NbN05BCHe0f0",
        "YiLTeCdOgZr3",
        "JT6NVH_qgERb"
      ],
      "include_colab_link": true
    },
    "kernelspec": {
      "name": "python3",
      "display_name": "Python 3"
    },
    "accelerator": "GPU"
  },
  "cells": [
    {
      "cell_type": "markdown",
      "metadata": {
        "id": "view-in-github",
        "colab_type": "text"
      },
      "source": [
        "<a href=\"https://colab.research.google.com/github/kartikayladdha/DL/blob/main/Labs/DL_Lab2.ipynb\" target=\"_parent\"><img src=\"https://colab.research.google.com/assets/colab-badge.svg\" alt=\"Open In Colab\"/></a>"
      ]
    },
    {
      "cell_type": "markdown",
      "metadata": {
        "id": "TFZamYWGRKqq"
      },
      "source": [
        "# Experiment 2, Create a Flask App for recognition of Handwritten digits\r\n"
      ]
    },
    {
      "cell_type": "markdown",
      "metadata": {
        "id": "MmXdKbH-RV5P"
      },
      "source": [
        "## Downloading basic libraries and data set\r\n"
      ]
    },
    {
      "cell_type": "code",
      "metadata": {
        "id": "G4HBeqc6QgME"
      },
      "source": [
        "import numpy as np\r\n",
        "import pandas as pd\r\n",
        "import time\r\n",
        "from matplotlib import pyplot as plt\r\n",
        "from PIL import Image\r\n",
        "%matplotlib inline\r\n",
        "from ipywidgets import interact\r\n",
        "import tensorflow as tf"
      ],
      "execution_count": 1,
      "outputs": []
    },
    {
      "cell_type": "code",
      "metadata": {
        "id": "LoFfql5VSAr5"
      },
      "source": [
        "from keras.datasets import mnist"
      ],
      "execution_count": 2,
      "outputs": []
    },
    {
      "cell_type": "code",
      "metadata": {
        "colab": {
          "base_uri": "https://localhost:8080/"
        },
        "id": "C2lQShU8SHAa",
        "outputId": "36d35dfb-4db6-4145-9ece-94d6baca7378"
      },
      "source": [
        "(X_train,Y_train),(X_test,Y_test)=mnist.load_data()\r\n",
        "print(\"X_train_shape\"+str(X_train.shape))\r\n",
        "print(\"Y_train_shape\"+str(Y_train.shape))\r\n",
        "print(\"X_test_shape\"+str(X_test.shape))\r\n",
        "print(\"Y_test_shape\"+str(Y_test.shape))"
      ],
      "execution_count": 3,
      "outputs": [
        {
          "output_type": "stream",
          "text": [
            "Downloading data from https://storage.googleapis.com/tensorflow/tf-keras-datasets/mnist.npz\n",
            "11493376/11490434 [==============================] - 0s 0us/step\n",
            "X_train_shape(60000, 28, 28)\n",
            "Y_train_shape(60000,)\n",
            "X_test_shape(10000, 28, 28)\n",
            "Y_test_shape(10000,)\n"
          ],
          "name": "stdout"
        }
      ]
    },
    {
      "cell_type": "markdown",
      "metadata": {
        "id": "wLsgXfT8SKuT"
      },
      "source": [
        "## Defining seed"
      ]
    },
    {
      "cell_type": "code",
      "metadata": {
        "id": "so-hdploSYAR"
      },
      "source": [
        "import random as rn"
      ],
      "execution_count": 4,
      "outputs": []
    },
    {
      "cell_type": "code",
      "metadata": {
        "id": "PvGfUCHTSHJ3"
      },
      "source": [
        "np.random.seed(42)\r\n",
        "rn.seed(42)"
      ],
      "execution_count": 5,
      "outputs": []
    },
    {
      "cell_type": "markdown",
      "metadata": {
        "id": "t0FhvtLNSeML"
      },
      "source": [
        "## Normalizing and reshaping images"
      ]
    },
    {
      "cell_type": "code",
      "metadata": {
        "colab": {
          "base_uri": "https://localhost:8080/"
        },
        "id": "Cvjci-QFSHQN",
        "outputId": "bb7f3940-1c15-4ae6-a549-c810c19ffa56"
      },
      "source": [
        "X_train=X_train.reshape((60000,28*28))\r\n",
        "X_test=X_test.reshape((10000,28*28))\r\n",
        "\r\n",
        "print(X_train.shape)\r\n",
        "print(X_test.shape)\r\n",
        "\r\n",
        "X_train=X_train.astype('float32')/255\r\n",
        "X_test=X_test.astype('float32')/255"
      ],
      "execution_count": 6,
      "outputs": [
        {
          "output_type": "stream",
          "text": [
            "(60000, 784)\n",
            "(10000, 784)\n"
          ],
          "name": "stdout"
        }
      ]
    },
    {
      "cell_type": "markdown",
      "metadata": {
        "id": "p81qyVViSrMq"
      },
      "source": [
        "## Ploting the images"
      ]
    },
    {
      "cell_type": "code",
      "metadata": {
        "colab": {
          "base_uri": "https://localhost:8080/",
          "height": 361
        },
        "id": "TVwtNwHLSt9B",
        "outputId": "cf30c587-2bdb-4fa4-9bec-47838c5dffc0"
      },
      "source": [
        "fig = plt.figure(figsize=(8, 6))\r\n",
        "for i in range(20):\r\n",
        "    ax = fig.add_subplot(4, 5, i+1, xticks=[], yticks=[])\r\n",
        "    ax.imshow(X_train[i].reshape(28,28), cmap=plt.cm.bone)"
      ],
      "execution_count": 7,
      "outputs": [
        {
          "output_type": "display_data",
          "data": {
            "image/png": "[encoded data removed]",
            "text/plain": [
              "<Figure size 576x432 with 20 Axes>"
            ]
          },
          "metadata": {
            "tags": []
          }
        }
      ]
    },
    {
      "cell_type": "markdown",
      "metadata": {
        "id": "a8oISRLQS7pA"
      },
      "source": [
        "## Building ANN"
      ]
    },
    {
      "cell_type": "code",
      "metadata": {
        "id": "A4edRvWjS7BJ"
      },
      "source": [
        "from keras import models\r\n",
        "from keras import layers\r\n",
        "from keras import optimizers\r\n",
        "from keras.utils import to_categorical\r\n",
        "from keras.callbacks import EarlyStopping\r\n",
        "from keras.callbacks import ModelCheckpoint\r\n",
        "from keras.models import load_model\r\n",
        "from sklearn.preprocessing import LabelEncoder, StandardScaler"
      ],
      "execution_count": 8,
      "outputs": []
    },
    {
      "cell_type": "code",
      "metadata": {
        "id": "0a2RS-DRTg_2"
      },
      "source": [
        "Y_train_cat = tf.keras.utils.to_categorical(Y_train)\r\n",
        "Y_test_cat = tf.keras.utils.to_categorical(Y_test)"
      ],
      "execution_count": 9,
      "outputs": []
    },
    {
      "cell_type": "code",
      "metadata": {
        "colab": {
          "base_uri": "https://localhost:8080/"
        },
        "id": "VNugd71MU9QW",
        "outputId": "735f21b6-45db-4216-9c0f-83946084754b"
      },
      "source": [
        "from keras import models\r\n",
        "from keras import layers\r\n",
        "\r\n",
        "nn = models.Sequential()\r\n",
        "nn.add(layers.Dense(512, activation=\"tanh\",input_shape=(28*28, )))\r\n",
        "nn.add(layers.Dense(256, activation=\"sigmoid\"))\r\n",
        "nn.add(layers.Dense(64, activation=\"tanh\"))\r\n",
        "nn.add(layers.Dense(32, activation=\"relu\"))\r\n",
        "nn.add(layers.Dense(10, activation=\"softmax\"))\r\n",
        "nn.summary()"
      ],
      "execution_count": 10,
      "outputs": [
        {
          "output_type": "stream",
          "text": [
            "Model: \"sequential\"\n",
            "_________________________________________________________________\n",
            "Layer (type)                 Output Shape              Param #   \n",
            "=================================================================\n",
            "dense (Dense)                (None, 512)               401920    \n",
            "_________________________________________________________________\n",
            "dense_1 (Dense)              (None, 256)               131328    \n",
            "_________________________________________________________________\n",
            "dense_2 (Dense)              (None, 64)                16448     \n",
            "_________________________________________________________________\n",
            "dense_3 (Dense)              (None, 32)                2080      \n",
            "_________________________________________________________________\n",
            "dense_4 (Dense)              (None, 10)                330       \n",
            "=================================================================\n",
            "Total params: 552,106\n",
            "Trainable params: 552,106\n",
            "Non-trainable params: 0\n",
            "_________________________________________________________________\n"
          ],
          "name": "stdout"
        }
      ]
    },
    {
      "cell_type": "code",
      "metadata": {
        "id": "r7GOeDkJU9bi"
      },
      "source": [
        "nn.compile(optimizer=\"rmsprop\",\r\n",
        "           loss='categorical_crossentropy',\r\n",
        "           metrics = ['accuracy'])"
      ],
      "execution_count": 11,
      "outputs": []
    },
    {
      "cell_type": "markdown",
      "metadata": {
        "id": "OCdsPIk8VZ3B"
      },
      "source": [
        "## Using callbacks"
      ]
    },
    {
      "cell_type": "code",
      "metadata": {
        "id": "2RRZSDIAVYV0"
      },
      "source": [
        "es = EarlyStopping(monitor='val_loss', mode='min', verbose=1, patience=100)\r\n",
        "mc = ModelCheckpoint('best_model.h5', monitor='val_accuracy', mode='max', verbose=1, save_best_only=True)"
      ],
      "execution_count": 12,
      "outputs": []
    },
    {
      "cell_type": "markdown",
      "metadata": {
        "id": "5cXkf3dMVlWE"
      },
      "source": [
        "## Running the model"
      ]
    },
    {
      "cell_type": "code",
      "metadata": {
        "colab": {
          "base_uri": "https://localhost:8080/"
        },
        "id": "eNeVcs1XVlsN",
        "outputId": "d077e477-10dc-46da-e6b6-5c228845e230"
      },
      "source": [
        "history = nn.fit(X_train,Y_train_cat, epochs=5000, batch_size = 100, validation_split=0.05, verbose=2, callbacks=[es, mc])"
      ],
      "execution_count": 13,
      "outputs": [
        {
          "output_type": "stream",
          "text": [
            "Epoch 1/5000\n",
            "570/570 - 4s - loss: 0.3514 - accuracy: 0.8953 - val_loss: 0.1490 - val_accuracy: 0.9527\n",
            "\n",
            "Epoch 00001: val_accuracy improved from -inf to 0.95267, saving model to best_model.h5\n",
            "Epoch 2/5000\n",
            "570/570 - 1s - loss: 0.1510 - accuracy: 0.9548 - val_loss: 0.0929 - val_accuracy: 0.9717\n",
            "\n",
            "Epoch 00002: val_accuracy improved from 0.95267 to 0.97167, saving model to best_model.h5\n",
            "Epoch 3/5000\n",
            "570/570 - 1s - loss: 0.1034 - accuracy: 0.9679 - val_loss: 0.0817 - val_accuracy: 0.9777\n",
            "\n",
            "Epoch 00003: val_accuracy improved from 0.97167 to 0.97767, saving model to best_model.h5\n",
            "Epoch 4/5000\n",
            "570/570 - 1s - loss: 0.0764 - accuracy: 0.9765 - val_loss: 0.0770 - val_accuracy: 0.9787\n",
            "\n",
            "Epoch 00004: val_accuracy improved from 0.97767 to 0.97867, saving model to best_model.h5\n",
            "Epoch 5/5000\n",
            "570/570 - 1s - loss: 0.0582 - accuracy: 0.9817 - val_loss: 0.0724 - val_accuracy: 0.9823\n",
            "\n",
            "Epoch 00005: val_accuracy improved from 0.97867 to 0.98233, saving model to best_model.h5\n",
            "Epoch 6/5000\n",
            "570/570 - 1s - loss: 0.0449 - accuracy: 0.9860 - val_loss: 0.0799 - val_accuracy: 0.9793\n",
            "\n",
            "Epoch 00006: val_accuracy did not improve from 0.98233\n",
            "Epoch 7/5000\n",
            "570/570 - 1s - loss: 0.0351 - accuracy: 0.9893 - val_loss: 0.0722 - val_accuracy: 0.9833\n",
            "\n",
            "Epoch 00007: val_accuracy improved from 0.98233 to 0.98333, saving model to best_model.h5\n",
            "Epoch 8/5000\n",
            "570/570 - 1s - loss: 0.0279 - accuracy: 0.9911 - val_loss: 0.0789 - val_accuracy: 0.9820\n",
            "\n",
            "Epoch 00008: val_accuracy did not improve from 0.98333\n",
            "Epoch 9/5000\n",
            "570/570 - 1s - loss: 0.0224 - accuracy: 0.9929 - val_loss: 0.0844 - val_accuracy: 0.9817\n",
            "\n",
            "Epoch 00009: val_accuracy did not improve from 0.98333\n",
            "Epoch 10/5000\n",
            "570/570 - 1s - loss: 0.0174 - accuracy: 0.9945 - val_loss: 0.0932 - val_accuracy: 0.9810\n",
            "\n",
            "Epoch 00010: val_accuracy did not improve from 0.98333\n",
            "Epoch 11/5000\n",
            "570/570 - 1s - loss: 0.0136 - accuracy: 0.9956 - val_loss: 0.1049 - val_accuracy: 0.9787\n",
            "\n",
            "Epoch 00011: val_accuracy did not improve from 0.98333\n",
            "Epoch 12/5000\n",
            "570/570 - 1s - loss: 0.0119 - accuracy: 0.9962 - val_loss: 0.1023 - val_accuracy: 0.9797\n",
            "\n",
            "Epoch 00012: val_accuracy did not improve from 0.98333\n",
            "Epoch 13/5000\n",
            "570/570 - 1s - loss: 0.0105 - accuracy: 0.9967 - val_loss: 0.1094 - val_accuracy: 0.9817\n",
            "\n",
            "Epoch 00013: val_accuracy did not improve from 0.98333\n",
            "Epoch 14/5000\n",
            "570/570 - 1s - loss: 0.0079 - accuracy: 0.9974 - val_loss: 0.0976 - val_accuracy: 0.9837\n",
            "\n",
            "Epoch 00014: val_accuracy improved from 0.98333 to 0.98367, saving model to best_model.h5\n",
            "Epoch 15/5000\n",
            "570/570 - 2s - loss: 0.0077 - accuracy: 0.9973 - val_loss: 0.1127 - val_accuracy: 0.9833\n",
            "\n",
            "Epoch 00015: val_accuracy did not improve from 0.98367\n",
            "Epoch 16/5000\n",
            "570/570 - 1s - loss: 0.0060 - accuracy: 0.9980 - val_loss: 0.1077 - val_accuracy: 0.9833\n",
            "\n",
            "Epoch 00016: val_accuracy did not improve from 0.98367\n",
            "Epoch 17/5000\n",
            "570/570 - 1s - loss: 0.0054 - accuracy: 0.9983 - val_loss: 0.1265 - val_accuracy: 0.9807\n",
            "\n",
            "Epoch 00017: val_accuracy did not improve from 0.98367\n",
            "Epoch 18/5000\n",
            "570/570 - 1s - loss: 0.0050 - accuracy: 0.9984 - val_loss: 0.1103 - val_accuracy: 0.9840\n",
            "\n",
            "Epoch 00018: val_accuracy improved from 0.98367 to 0.98400, saving model to best_model.h5\n",
            "Epoch 19/5000\n",
            "570/570 - 1s - loss: 0.0049 - accuracy: 0.9982 - val_loss: 0.1190 - val_accuracy: 0.9840\n",
            "\n",
            "Epoch 00019: val_accuracy did not improve from 0.98400\n",
            "Epoch 20/5000\n",
            "570/570 - 1s - loss: 0.0037 - accuracy: 0.9989 - val_loss: 0.1277 - val_accuracy: 0.9813\n",
            "\n",
            "Epoch 00020: val_accuracy did not improve from 0.98400\n",
            "Epoch 21/5000\n",
            "570/570 - 1s - loss: 0.0037 - accuracy: 0.9988 - val_loss: 0.1373 - val_accuracy: 0.9810\n",
            "\n",
            "Epoch 00021: val_accuracy did not improve from 0.98400\n",
            "Epoch 22/5000\n",
            "570/570 - 1s - loss: 0.0027 - accuracy: 0.9991 - val_loss: 0.1425 - val_accuracy: 0.9817\n",
            "\n",
            "Epoch 00022: val_accuracy did not improve from 0.98400\n",
            "Epoch 23/5000\n",
            "570/570 - 1s - loss: 0.0027 - accuracy: 0.9992 - val_loss: 0.1419 - val_accuracy: 0.9840\n",
            "\n",
            "Epoch 00023: val_accuracy did not improve from 0.98400\n",
            "Epoch 24/5000\n",
            "570/570 - 1s - loss: 0.0027 - accuracy: 0.9991 - val_loss: 0.1590 - val_accuracy: 0.9813\n",
            "\n",
            "Epoch 00024: val_accuracy did not improve from 0.98400\n",
            "Epoch 25/5000\n",
            "570/570 - 1s - loss: 0.0026 - accuracy: 0.9992 - val_loss: 0.1470 - val_accuracy: 0.9850\n",
            "\n",
            "Epoch 00025: val_accuracy improved from 0.98400 to 0.98500, saving model to best_model.h5\n",
            "Epoch 26/5000\n",
            "570/570 - 1s - loss: 0.0034 - accuracy: 0.9989 - val_loss: 0.1493 - val_accuracy: 0.9830\n",
            "\n",
            "Epoch 00026: val_accuracy did not improve from 0.98500\n",
            "Epoch 27/5000\n",
            "570/570 - 1s - loss: 0.0024 - accuracy: 0.9993 - val_loss: 0.1310 - val_accuracy: 0.9840\n",
            "\n",
            "Epoch 00027: val_accuracy did not improve from 0.98500\n",
            "Epoch 28/5000\n",
            "570/570 - 1s - loss: 0.0026 - accuracy: 0.9992 - val_loss: 0.1547 - val_accuracy: 0.9847\n",
            "\n",
            "Epoch 00028: val_accuracy did not improve from 0.98500\n",
            "Epoch 29/5000\n",
            "570/570 - 1s - loss: 0.0030 - accuracy: 0.9992 - val_loss: 0.1623 - val_accuracy: 0.9833\n",
            "\n",
            "Epoch 00029: val_accuracy did not improve from 0.98500\n",
            "Epoch 30/5000\n",
            "570/570 - 1s - loss: 0.0024 - accuracy: 0.9993 - val_loss: 0.1718 - val_accuracy: 0.9837\n",
            "\n",
            "Epoch 00030: val_accuracy did not improve from 0.98500\n",
            "Epoch 31/5000\n",
            "570/570 - 1s - loss: 0.0017 - accuracy: 0.9995 - val_loss: 0.1729 - val_accuracy: 0.9837\n",
            "\n",
            "Epoch 00031: val_accuracy did not improve from 0.98500\n",
            "Epoch 32/5000\n",
            "570/570 - 1s - loss: 0.0021 - accuracy: 0.9995 - val_loss: 0.1479 - val_accuracy: 0.9850\n",
            "\n",
            "Epoch 00032: val_accuracy did not improve from 0.98500\n",
            "Epoch 33/5000\n",
            "570/570 - 1s - loss: 0.0022 - accuracy: 0.9994 - val_loss: 0.2020 - val_accuracy: 0.9830\n",
            "\n",
            "Epoch 00033: val_accuracy did not improve from 0.98500\n",
            "Epoch 34/5000\n",
            "570/570 - 1s - loss: 0.0028 - accuracy: 0.9994 - val_loss: 0.1697 - val_accuracy: 0.9833\n",
            "\n",
            "Epoch 00034: val_accuracy did not improve from 0.98500\n",
            "Epoch 35/5000\n",
            "570/570 - 1s - loss: 0.0023 - accuracy: 0.9994 - val_loss: 0.1566 - val_accuracy: 0.9857\n",
            "\n",
            "Epoch 00035: val_accuracy improved from 0.98500 to 0.98567, saving model to best_model.h5\n",
            "Epoch 36/5000\n",
            "570/570 - 1s - loss: 0.0033 - accuracy: 0.9992 - val_loss: 0.1703 - val_accuracy: 0.9833\n",
            "\n",
            "Epoch 00036: val_accuracy did not improve from 0.98567\n",
            "Epoch 37/5000\n",
            "570/570 - 1s - loss: 0.0029 - accuracy: 0.9993 - val_loss: 0.1697 - val_accuracy: 0.9840\n",
            "\n",
            "Epoch 00037: val_accuracy did not improve from 0.98567\n",
            "Epoch 38/5000\n",
            "570/570 - 1s - loss: 0.0017 - accuracy: 0.9995 - val_loss: 0.1805 - val_accuracy: 0.9843\n",
            "\n",
            "Epoch 00038: val_accuracy did not improve from 0.98567\n",
            "Epoch 39/5000\n",
            "570/570 - 1s - loss: 0.0016 - accuracy: 0.9995 - val_loss: 0.2074 - val_accuracy: 0.9830\n",
            "\n",
            "Epoch 00039: val_accuracy did not improve from 0.98567\n",
            "Epoch 40/5000\n",
            "570/570 - 1s - loss: 0.0020 - accuracy: 0.9994 - val_loss: 0.1969 - val_accuracy: 0.9847\n",
            "\n",
            "Epoch 00040: val_accuracy did not improve from 0.98567\n",
            "Epoch 41/5000\n",
            "570/570 - 1s - loss: 0.0023 - accuracy: 0.9995 - val_loss: 0.1866 - val_accuracy: 0.9840\n",
            "\n",
            "Epoch 00041: val_accuracy did not improve from 0.98567\n",
            "Epoch 42/5000\n",
            "570/570 - 1s - loss: 0.0014 - accuracy: 0.9997 - val_loss: 0.1828 - val_accuracy: 0.9863\n",
            "\n",
            "Epoch 00042: val_accuracy improved from 0.98567 to 0.98633, saving model to best_model.h5\n",
            "Epoch 43/5000\n",
            "570/570 - 1s - loss: 0.0016 - accuracy: 0.9996 - val_loss: 0.1956 - val_accuracy: 0.9847\n",
            "\n",
            "Epoch 00043: val_accuracy did not improve from 0.98633\n",
            "Epoch 44/5000\n",
            "570/570 - 1s - loss: 0.0015 - accuracy: 0.9996 - val_loss: 0.2030 - val_accuracy: 0.9830\n",
            "\n",
            "Epoch 00044: val_accuracy did not improve from 0.98633\n",
            "Epoch 45/5000\n",
            "570/570 - 1s - loss: 0.0015 - accuracy: 0.9996 - val_loss: 0.2000 - val_accuracy: 0.9840\n",
            "\n",
            "Epoch 00045: val_accuracy did not improve from 0.98633\n",
            "Epoch 46/5000\n",
            "570/570 - 1s - loss: 0.0019 - accuracy: 0.9995 - val_loss: 0.2279 - val_accuracy: 0.9803\n",
            "\n",
            "Epoch 00046: val_accuracy did not improve from 0.98633\n",
            "Epoch 47/5000\n",
            "570/570 - 1s - loss: 0.0015 - accuracy: 0.9996 - val_loss: 0.2099 - val_accuracy: 0.9827\n",
            "\n",
            "Epoch 00047: val_accuracy did not improve from 0.98633\n",
            "Epoch 48/5000\n",
            "570/570 - 1s - loss: 8.9894e-04 - accuracy: 0.9997 - val_loss: 0.2205 - val_accuracy: 0.9840\n",
            "\n",
            "Epoch 00048: val_accuracy did not improve from 0.98633\n",
            "Epoch 49/5000\n",
            "570/570 - 1s - loss: 0.0011 - accuracy: 0.9997 - val_loss: 0.2359 - val_accuracy: 0.9837\n",
            "\n",
            "Epoch 00049: val_accuracy did not improve from 0.98633\n",
            "Epoch 50/5000\n",
            "570/570 - 1s - loss: 0.0017 - accuracy: 0.9996 - val_loss: 0.2142 - val_accuracy: 0.9860\n",
            "\n",
            "Epoch 00050: val_accuracy did not improve from 0.98633\n",
            "Epoch 51/5000\n",
            "570/570 - 1s - loss: 0.0022 - accuracy: 0.9996 - val_loss: 0.2203 - val_accuracy: 0.9843\n",
            "\n",
            "Epoch 00051: val_accuracy did not improve from 0.98633\n",
            "Epoch 52/5000\n",
            "570/570 - 2s - loss: 0.0017 - accuracy: 0.9996 - val_loss: 0.2088 - val_accuracy: 0.9857\n",
            "\n",
            "Epoch 00052: val_accuracy did not improve from 0.98633\n",
            "Epoch 53/5000\n",
            "570/570 - 2s - loss: 0.0015 - accuracy: 0.9997 - val_loss: 0.2393 - val_accuracy: 0.9843\n",
            "\n",
            "Epoch 00053: val_accuracy did not improve from 0.98633\n",
            "Epoch 54/5000\n",
            "570/570 - 1s - loss: 0.0011 - accuracy: 0.9997 - val_loss: 0.2448 - val_accuracy: 0.9820\n",
            "\n",
            "Epoch 00054: val_accuracy did not improve from 0.98633\n",
            "Epoch 55/5000\n",
            "570/570 - 1s - loss: 0.0013 - accuracy: 0.9997 - val_loss: 0.2220 - val_accuracy: 0.9847\n",
            "\n",
            "Epoch 00055: val_accuracy did not improve from 0.98633\n",
            "Epoch 56/5000\n",
            "570/570 - 1s - loss: 0.0012 - accuracy: 0.9997 - val_loss: 0.2515 - val_accuracy: 0.9833\n",
            "\n",
            "Epoch 00056: val_accuracy did not improve from 0.98633\n",
            "Epoch 57/5000\n",
            "570/570 - 2s - loss: 0.0014 - accuracy: 0.9997 - val_loss: 0.2647 - val_accuracy: 0.9833\n",
            "\n",
            "Epoch 00057: val_accuracy did not improve from 0.98633\n",
            "Epoch 58/5000\n",
            "570/570 - 1s - loss: 0.0014 - accuracy: 0.9997 - val_loss: 0.2199 - val_accuracy: 0.9857\n",
            "\n",
            "Epoch 00058: val_accuracy did not improve from 0.98633\n",
            "Epoch 59/5000\n",
            "570/570 - 1s - loss: 0.0024 - accuracy: 0.9995 - val_loss: 0.2415 - val_accuracy: 0.9827\n",
            "\n",
            "Epoch 00059: val_accuracy did not improve from 0.98633\n",
            "Epoch 60/5000\n",
            "570/570 - 1s - loss: 0.0014 - accuracy: 0.9997 - val_loss: 0.2343 - val_accuracy: 0.9847\n",
            "\n",
            "Epoch 00060: val_accuracy did not improve from 0.98633\n",
            "Epoch 61/5000\n",
            "570/570 - 1s - loss: 0.0015 - accuracy: 0.9996 - val_loss: 0.2617 - val_accuracy: 0.9833\n",
            "\n",
            "Epoch 00061: val_accuracy did not improve from 0.98633\n",
            "Epoch 62/5000\n",
            "570/570 - 1s - loss: 9.3482e-04 - accuracy: 0.9997 - val_loss: 0.2369 - val_accuracy: 0.9840\n",
            "\n",
            "Epoch 00062: val_accuracy did not improve from 0.98633\n",
            "Epoch 63/5000\n",
            "570/570 - 1s - loss: 0.0015 - accuracy: 0.9998 - val_loss: 0.2501 - val_accuracy: 0.9843\n",
            "\n",
            "Epoch 00063: val_accuracy did not improve from 0.98633\n",
            "Epoch 64/5000\n",
            "570/570 - 1s - loss: 0.0019 - accuracy: 0.9996 - val_loss: 0.2248 - val_accuracy: 0.9857\n",
            "\n",
            "Epoch 00064: val_accuracy did not improve from 0.98633\n",
            "Epoch 65/5000\n",
            "570/570 - 1s - loss: 0.0014 - accuracy: 0.9997 - val_loss: 0.2649 - val_accuracy: 0.9830\n",
            "\n",
            "Epoch 00065: val_accuracy did not improve from 0.98633\n",
            "Epoch 66/5000\n",
            "570/570 - 1s - loss: 0.0013 - accuracy: 0.9997 - val_loss: 0.2541 - val_accuracy: 0.9837\n",
            "\n",
            "Epoch 00066: val_accuracy did not improve from 0.98633\n",
            "Epoch 67/5000\n",
            "570/570 - 1s - loss: 9.3024e-04 - accuracy: 0.9998 - val_loss: 0.2684 - val_accuracy: 0.9843\n",
            "\n",
            "Epoch 00067: val_accuracy did not improve from 0.98633\n",
            "Epoch 68/5000\n",
            "570/570 - 1s - loss: 0.0016 - accuracy: 0.9996 - val_loss: 0.2774 - val_accuracy: 0.9823\n",
            "\n",
            "Epoch 00068: val_accuracy did not improve from 0.98633\n",
            "Epoch 69/5000\n",
            "570/570 - 1s - loss: 0.0012 - accuracy: 0.9996 - val_loss: 0.2749 - val_accuracy: 0.9827\n",
            "\n",
            "Epoch 00069: val_accuracy did not improve from 0.98633\n",
            "Epoch 70/5000\n",
            "570/570 - 2s - loss: 0.0016 - accuracy: 0.9998 - val_loss: 0.2728 - val_accuracy: 0.9823\n",
            "\n",
            "Epoch 00070: val_accuracy did not improve from 0.98633\n",
            "Epoch 71/5000\n",
            "570/570 - 2s - loss: 0.0016 - accuracy: 0.9996 - val_loss: 0.2465 - val_accuracy: 0.9847\n",
            "\n",
            "Epoch 00071: val_accuracy did not improve from 0.98633\n",
            "Epoch 72/5000\n",
            "570/570 - 1s - loss: 0.0010 - accuracy: 0.9998 - val_loss: 0.2532 - val_accuracy: 0.9847\n",
            "\n",
            "Epoch 00072: val_accuracy did not improve from 0.98633\n",
            "Epoch 73/5000\n",
            "570/570 - 1s - loss: 8.4220e-04 - accuracy: 0.9998 - val_loss: 0.2559 - val_accuracy: 0.9860\n",
            "\n",
            "Epoch 00073: val_accuracy did not improve from 0.98633\n",
            "Epoch 74/5000\n",
            "570/570 - 1s - loss: 0.0014 - accuracy: 0.9997 - val_loss: 0.2819 - val_accuracy: 0.9857\n",
            "\n",
            "Epoch 00074: val_accuracy did not improve from 0.98633\n",
            "Epoch 75/5000\n",
            "570/570 - 1s - loss: 9.3214e-04 - accuracy: 0.9998 - val_loss: 0.2590 - val_accuracy: 0.9827\n",
            "\n",
            "Epoch 00075: val_accuracy did not improve from 0.98633\n",
            "Epoch 76/5000\n",
            "570/570 - 1s - loss: 8.5509e-04 - accuracy: 0.9998 - val_loss: 0.2605 - val_accuracy: 0.9827\n",
            "\n",
            "Epoch 00076: val_accuracy did not improve from 0.98633\n",
            "Epoch 77/5000\n",
            "570/570 - 1s - loss: 0.0010 - accuracy: 0.9997 - val_loss: 0.2901 - val_accuracy: 0.9833\n",
            "\n",
            "Epoch 00077: val_accuracy did not improve from 0.98633\n",
            "Epoch 78/5000\n",
            "570/570 - 2s - loss: 0.0010 - accuracy: 0.9997 - val_loss: 0.3095 - val_accuracy: 0.9813\n",
            "\n",
            "Epoch 00078: val_accuracy did not improve from 0.98633\n",
            "Epoch 79/5000\n",
            "570/570 - 1s - loss: 0.0016 - accuracy: 0.9996 - val_loss: 0.2626 - val_accuracy: 0.9837\n",
            "\n",
            "Epoch 00079: val_accuracy did not improve from 0.98633\n",
            "Epoch 80/5000\n",
            "570/570 - 1s - loss: 7.9764e-04 - accuracy: 0.9998 - val_loss: 0.3233 - val_accuracy: 0.9783\n",
            "\n",
            "Epoch 00080: val_accuracy did not improve from 0.98633\n",
            "Epoch 81/5000\n",
            "570/570 - 2s - loss: 0.0017 - accuracy: 0.9997 - val_loss: 0.3042 - val_accuracy: 0.9837\n",
            "\n",
            "Epoch 00081: val_accuracy did not improve from 0.98633\n",
            "Epoch 82/5000\n",
            "570/570 - 1s - loss: 0.0012 - accuracy: 0.9996 - val_loss: 0.2746 - val_accuracy: 0.9823\n",
            "\n",
            "Epoch 00082: val_accuracy did not improve from 0.98633\n",
            "Epoch 83/5000\n",
            "570/570 - 1s - loss: 8.9094e-04 - accuracy: 0.9998 - val_loss: 0.2739 - val_accuracy: 0.9840\n",
            "\n",
            "Epoch 00083: val_accuracy did not improve from 0.98633\n",
            "Epoch 84/5000\n",
            "570/570 - 1s - loss: 4.5631e-04 - accuracy: 0.9999 - val_loss: 0.2719 - val_accuracy: 0.9847\n",
            "\n",
            "Epoch 00084: val_accuracy did not improve from 0.98633\n",
            "Epoch 85/5000\n",
            "570/570 - 1s - loss: 0.0013 - accuracy: 0.9997 - val_loss: 0.3051 - val_accuracy: 0.9823\n",
            "\n",
            "Epoch 00085: val_accuracy did not improve from 0.98633\n",
            "Epoch 86/5000\n",
            "570/570 - 1s - loss: 0.0011 - accuracy: 0.9998 - val_loss: 0.3184 - val_accuracy: 0.9817\n",
            "\n",
            "Epoch 00086: val_accuracy did not improve from 0.98633\n",
            "Epoch 87/5000\n",
            "570/570 - 1s - loss: 8.8144e-04 - accuracy: 0.9998 - val_loss: 0.2872 - val_accuracy: 0.9833\n",
            "\n",
            "Epoch 00087: val_accuracy did not improve from 0.98633\n",
            "Epoch 88/5000\n",
            "570/570 - 1s - loss: 8.5990e-04 - accuracy: 0.9998 - val_loss: 0.2943 - val_accuracy: 0.9843\n",
            "\n",
            "Epoch 00088: val_accuracy did not improve from 0.98633\n",
            "Epoch 89/5000\n",
            "570/570 - 1s - loss: 5.2095e-04 - accuracy: 0.9999 - val_loss: 0.2769 - val_accuracy: 0.9817\n",
            "\n",
            "Epoch 00089: val_accuracy did not improve from 0.98633\n",
            "Epoch 90/5000\n",
            "570/570 - 1s - loss: 0.0016 - accuracy: 0.9997 - val_loss: 0.2746 - val_accuracy: 0.9850\n",
            "\n",
            "Epoch 00090: val_accuracy did not improve from 0.98633\n",
            "Epoch 91/5000\n",
            "570/570 - 1s - loss: 0.0010 - accuracy: 0.9998 - val_loss: 0.2961 - val_accuracy: 0.9830\n",
            "\n",
            "Epoch 00091: val_accuracy did not improve from 0.98633\n",
            "Epoch 92/5000\n",
            "570/570 - 1s - loss: 0.0015 - accuracy: 0.9998 - val_loss: 0.2973 - val_accuracy: 0.9840\n",
            "\n",
            "Epoch 00092: val_accuracy did not improve from 0.98633\n",
            "Epoch 93/5000\n",
            "570/570 - 1s - loss: 9.1972e-04 - accuracy: 0.9998 - val_loss: 0.2585 - val_accuracy: 0.9843\n",
            "\n",
            "Epoch 00093: val_accuracy did not improve from 0.98633\n",
            "Epoch 94/5000\n",
            "570/570 - 1s - loss: 6.9495e-04 - accuracy: 0.9998 - val_loss: 0.2442 - val_accuracy: 0.9853\n",
            "\n",
            "Epoch 00094: val_accuracy did not improve from 0.98633\n",
            "Epoch 95/5000\n",
            "570/570 - 1s - loss: 0.0013 - accuracy: 0.9998 - val_loss: 0.2537 - val_accuracy: 0.9853\n",
            "\n",
            "Epoch 00095: val_accuracy did not improve from 0.98633\n",
            "Epoch 96/5000\n",
            "570/570 - 1s - loss: 4.5759e-04 - accuracy: 0.9998 - val_loss: 0.3034 - val_accuracy: 0.9840\n",
            "\n",
            "Epoch 00096: val_accuracy did not improve from 0.98633\n",
            "Epoch 97/5000\n",
            "570/570 - 1s - loss: 0.0012 - accuracy: 0.9997 - val_loss: 0.2862 - val_accuracy: 0.9853\n",
            "\n",
            "Epoch 00097: val_accuracy did not improve from 0.98633\n",
            "Epoch 98/5000\n",
            "570/570 - 1s - loss: 7.5279e-04 - accuracy: 0.9998 - val_loss: 0.2394 - val_accuracy: 0.9870\n",
            "\n",
            "Epoch 00098: val_accuracy improved from 0.98633 to 0.98700, saving model to best_model.h5\n",
            "Epoch 99/5000\n",
            "570/570 - 1s - loss: 0.0013 - accuracy: 0.9998 - val_loss: 0.2696 - val_accuracy: 0.9853\n",
            "\n",
            "Epoch 00099: val_accuracy did not improve from 0.98700\n",
            "Epoch 100/5000\n",
            "570/570 - 1s - loss: 7.7096e-04 - accuracy: 0.9999 - val_loss: 0.2266 - val_accuracy: 0.9857\n",
            "\n",
            "Epoch 00100: val_accuracy did not improve from 0.98700\n",
            "Epoch 101/5000\n",
            "570/570 - 2s - loss: 0.0013 - accuracy: 0.9998 - val_loss: 0.2554 - val_accuracy: 0.9860\n",
            "\n",
            "Epoch 00101: val_accuracy did not improve from 0.98700\n",
            "Epoch 102/5000\n",
            "570/570 - 1s - loss: 0.0013 - accuracy: 0.9998 - val_loss: 0.3264 - val_accuracy: 0.9823\n",
            "\n",
            "Epoch 00102: val_accuracy did not improve from 0.98700\n",
            "Epoch 103/5000\n",
            "570/570 - 1s - loss: 0.0014 - accuracy: 0.9997 - val_loss: 0.2728 - val_accuracy: 0.9850\n",
            "\n",
            "Epoch 00103: val_accuracy did not improve from 0.98700\n",
            "Epoch 104/5000\n",
            "570/570 - 1s - loss: 9.3153e-04 - accuracy: 0.9998 - val_loss: 0.2868 - val_accuracy: 0.9823\n",
            "\n",
            "Epoch 00104: val_accuracy did not improve from 0.98700\n",
            "Epoch 105/5000\n",
            "570/570 - 1s - loss: 3.0169e-04 - accuracy: 0.9999 - val_loss: 0.2934 - val_accuracy: 0.9833\n",
            "\n",
            "Epoch 00105: val_accuracy did not improve from 0.98700\n",
            "Epoch 106/5000\n",
            "570/570 - 1s - loss: 0.0013 - accuracy: 0.9997 - val_loss: 0.2971 - val_accuracy: 0.9830\n",
            "\n",
            "Epoch 00106: val_accuracy did not improve from 0.98700\n",
            "Epoch 107/5000\n",
            "570/570 - 1s - loss: 7.0019e-04 - accuracy: 0.9998 - val_loss: 0.2834 - val_accuracy: 0.9827\n",
            "\n",
            "Epoch 00107: val_accuracy did not improve from 0.98700\n",
            "Epoch 00107: early stopping\n"
          ],
          "name": "stdout"
        }
      ]
    },
    {
      "cell_type": "code",
      "metadata": {
        "colab": {
          "base_uri": "https://localhost:8080/"
        },
        "id": "61WajmQgXrM8",
        "outputId": "f5777733-60aa-495e-a006-704813fd91e9"
      },
      "source": [
        "test_loss,test_acc=nn.evaluate(X_test,Y_test_cat)\r\n",
        "print(test_loss)\r\n",
        "print(test_acc)"
      ],
      "execution_count": 14,
      "outputs": [
        {
          "output_type": "stream",
          "text": [
            "313/313 [==============================] - 1s 2ms/step - loss: 0.3153 - accuracy: 0.9808\n",
            "0.31532835960388184\n",
            "0.9807999730110168\n"
          ],
          "name": "stdout"
        }
      ]
    },
    {
      "cell_type": "markdown",
      "metadata": {
        "id": "MPTyJvv-efAz"
      },
      "source": [
        "## Confusion matrix"
      ]
    },
    {
      "cell_type": "code",
      "metadata": {
        "colab": {
          "base_uri": "https://localhost:8080/"
        },
        "id": "0ONy_aosbYhF",
        "outputId": "2dd049d6-4bb1-4d95-c3cc-5e5c37c72588"
      },
      "source": [
        "predictions = nn.predict_classes(X_test)"
      ],
      "execution_count": 15,
      "outputs": [
        {
          "output_type": "stream",
          "text": [
            "/usr/local/lib/python3.6/dist-packages/tensorflow/python/keras/engine/sequential.py:450: UserWarning: `model.predict_classes()` is deprecated and will be removed after 2021-01-01. Please use instead:* `np.argmax(model.predict(x), axis=-1)`,   if your model does multi-class classification   (e.g. if it uses a `softmax` last-layer activation).* `(model.predict(x) > 0.5).astype(\"int32\")`,   if your model does binary classification   (e.g. if it uses a `sigmoid` last-layer activation).\n",
            "  warnings.warn('`model.predict_classes()` is deprecated and '\n"
          ],
          "name": "stderr"
        }
      ]
    },
    {
      "cell_type": "code",
      "metadata": {
        "colab": {
          "base_uri": "https://localhost:8080/"
        },
        "id": "6Oay2hzYbYtc",
        "outputId": "4e483a23-d555-4189-8da2-fec79eabf209"
      },
      "source": [
        "predictions"
      ],
      "execution_count": 16,
      "outputs": [
        {
          "output_type": "execute_result",
          "data": {
            "text/plain": [
              "array([7, 2, 1, ..., 4, 5, 6])"
            ]
          },
          "metadata": {
            "tags": []
          },
          "execution_count": 16
        }
      ]
    },
    {
      "cell_type": "code",
      "metadata": {
        "id": "4ZTqgmcpbYz3"
      },
      "source": [
        "predictions = to_categorical(predictions,10)"
      ],
      "execution_count": 17,
      "outputs": []
    },
    {
      "cell_type": "code",
      "metadata": {
        "id": "hXqmJM0TeOYD"
      },
      "source": [
        "a = np.argmax(predictions ,axis=1)"
      ],
      "execution_count": 18,
      "outputs": []
    },
    {
      "cell_type": "code",
      "metadata": {
        "id": "qnSzetG4eOas"
      },
      "source": [
        "b = np.argmax(Y_test_cat,axis=1)"
      ],
      "execution_count": 19,
      "outputs": []
    },
    {
      "cell_type": "code",
      "metadata": {
        "id": "Ywoch3SKeOdL"
      },
      "source": [
        "from sklearn.metrics import confusion_matrix\r\n",
        "from numpy import argmax"
      ],
      "execution_count": 20,
      "outputs": []
    },
    {
      "cell_type": "code",
      "metadata": {
        "colab": {
          "base_uri": "https://localhost:8080/"
        },
        "id": "NL2Y7q7reOfo",
        "outputId": "d7ebc294-4759-42c8-d5f3-98835aa4828b"
      },
      "source": [
        "cm = confusion_matrix(a,b)\r\n",
        "cm"
      ],
      "execution_count": 21,
      "outputs": [
        {
          "output_type": "execute_result",
          "data": {
            "text/plain": [
              "array([[ 971,    0,    1,    0,    1,    4,    3,    1,    5,    2],\n",
              "       [   0, 1127,    0,    1,    0,    0,    2,    3,    0,    2],\n",
              "       [   3,    1, 1017,    3,    2,    0,    2,    6,    2,    0],\n",
              "       [   0,    0,    3,  983,    1,    8,    0,    2,    2,    1],\n",
              "       [   0,    0,    1,    1,  960,    1,    1,    1,    4,   10],\n",
              "       [   0,    0,    0,    1,    0,  864,    4,    0,    2,    2],\n",
              "       [   4,    2,    1,    0,    8,    5,  944,    1,    2,    0],\n",
              "       [   1,    2,    6,    6,    1,    2,    0, 1007,    5,    3],\n",
              "       [   1,    3,    3,    7,    0,    3,    2,    1,  947,    1],\n",
              "       [   0,    0,    0,    8,    9,    5,    0,    6,    5,  988]])"
            ]
          },
          "metadata": {
            "tags": []
          },
          "execution_count": 21
        }
      ]
    },
    {
      "cell_type": "code",
      "metadata": {
        "colab": {
          "base_uri": "https://localhost:8080/"
        },
        "id": "HAzd5g8GeOjR",
        "outputId": "e845b9fb-2a94-4bc1-a516-6265075a7dbc"
      },
      "source": [
        "accuracy = sum(cm[i][i] for i in range(10)) / Y_test_cat.shape[0]\r\n",
        "print(\"accuracy = \" + str(accuracy))"
      ],
      "execution_count": 22,
      "outputs": [
        {
          "output_type": "stream",
          "text": [
            "accuracy = 0.9808\n"
          ],
          "name": "stdout"
        }
      ]
    },
    {
      "cell_type": "markdown",
      "metadata": {
        "id": "NbN05BCHe0f0"
      },
      "source": [
        "## Plots"
      ]
    },
    {
      "cell_type": "code",
      "metadata": {
        "colab": {
          "base_uri": "https://localhost:8080/",
          "height": 899
        },
        "id": "jMZCzL0We2S5",
        "outputId": "256155a9-49d0-4108-8f8e-d4d79a0b2725"
      },
      "source": [
        "plt.figure(figsize = (10,7))\r\n",
        "plt.plot(history.history['accuracy'], color = 'blue')\r\n",
        "plt.plot(history.history['val_accuracy'], color = 'red')\r\n",
        "plt.title('Model accuracy')\r\n",
        "plt.ylabel('Accuracy')\r\n",
        "plt.xlabel('Epoch')\r\n",
        "plt.legend(['Train', 'Validation'], loc='upper left')\r\n",
        "plt.show()\r\n",
        "\r\n",
        "plt.figure(figsize = (10,7))\r\n",
        "plt.plot(history.history['loss'], color= 'blue')\r\n",
        "plt.plot(history.history['val_loss'], color = 'red')\r\n",
        "plt.title('Model Loss')\r\n",
        "plt.ylabel('Loss')\r\n",
        "plt.xlabel('Epoch')\r\n",
        "plt.legend(['Train', 'Validation'], loc='upper left')\r\n",
        "plt.show()"
      ],
      "execution_count": 23,
      "outputs": [
        {
          "output_type": "display_data",
          "data": {
            "image/png": "[encoded data removed]",
            "text/plain": [
              "<Figure size 720x504 with 1 Axes>"
            ]
          },
          "metadata": {
            "tags": [],
            "needs_background": "light"
          }
        },
        {
          "output_type": "display_data",
          "data": {
            "image/png": "[encoded data removed]",
            "text/plain": [
              "<Figure size 720x504 with 1 Axes>"
            ]
          },
          "metadata": {
            "tags": [],
            "needs_background": "light"
          }
        }
      ]
    },
    {
      "cell_type": "markdown",
      "metadata": {
        "id": "YiLTeCdOgZr3"
      },
      "source": [
        "## Precision and recall"
      ]
    },
    {
      "cell_type": "code",
      "metadata": {
        "colab": {
          "base_uri": "https://localhost:8080/"
        },
        "id": "5KSmsJAkbY3R",
        "outputId": "e7ba18a1-60be-426a-f65b-ed5f1d8f3b5d"
      },
      "source": [
        "from sklearn.metrics import precision_score, recall_score\r\n",
        "print('precision score - ',precision_score(Y_test_cat, predictions, average=\"macro\"))\r\n",
        "print('recall score - ', recall_score(Y_test_cat, predictions, average=\"macro\"))    "
      ],
      "execution_count": 24,
      "outputs": [
        {
          "output_type": "stream",
          "text": [
            "precision score -  0.9807718678899894\n",
            "recall score -  0.9805131698890518\n"
          ],
          "name": "stdout"
        }
      ]
    },
    {
      "cell_type": "markdown",
      "metadata": {
        "id": "JT6NVH_qgERb"
      },
      "source": [
        "## Saving and Loading model"
      ]
    },
    {
      "cell_type": "code",
      "metadata": {
        "id": "A_a8JpeAgpj1"
      },
      "source": [
        "nn.save('best_model.h5')"
      ],
      "execution_count": 25,
      "outputs": []
    },
    {
      "cell_type": "code",
      "metadata": {
        "id": "UtF8sibKgH_w"
      },
      "source": [
        "from tensorflow import keras\r\n",
        "model = keras.models.load_model('best_model.h5')"
      ],
      "execution_count": 26,
      "outputs": []
    },
    {
      "cell_type": "code",
      "metadata": {
        "colab": {
          "base_uri": "https://localhost:8080/"
        },
        "id": "TQQscB5Cgpdf",
        "outputId": "271e2f79-b0bd-472d-b66f-7d54b40e6bb4"
      },
      "source": [
        "model.summary()"
      ],
      "execution_count": 27,
      "outputs": [
        {
          "output_type": "stream",
          "text": [
            "Model: \"sequential\"\n",
            "_________________________________________________________________\n",
            "Layer (type)                 Output Shape              Param #   \n",
            "=================================================================\n",
            "dense (Dense)                (None, 512)               401920    \n",
            "_________________________________________________________________\n",
            "dense_1 (Dense)              (None, 256)               131328    \n",
            "_________________________________________________________________\n",
            "dense_2 (Dense)              (None, 64)                16448     \n",
            "_________________________________________________________________\n",
            "dense_3 (Dense)              (None, 32)                2080      \n",
            "_________________________________________________________________\n",
            "dense_4 (Dense)              (None, 10)                330       \n",
            "=================================================================\n",
            "Total params: 552,106\n",
            "Trainable params: 552,106\n",
            "Non-trainable params: 0\n",
            "_________________________________________________________________\n"
          ],
          "name": "stdout"
        }
      ]
    },
    {
      "cell_type": "markdown",
      "metadata": {
        "id": "ge6Ev7_ehHmV"
      },
      "source": [
        "## Deployement on Flask"
      ]
    },
    {
      "cell_type": "code",
      "metadata": {
        "colab": {
          "base_uri": "https://localhost:8080/"
        },
        "id": "7lu8YhFlhO9R",
        "outputId": "7304dd2c-d0cd-4348-8dd0-1d86b0b413d5"
      },
      "source": [
        "!pip install flask gevent requests pillow"
      ],
      "execution_count": 28,
      "outputs": [
        {
          "output_type": "stream",
          "text": [
            "Requirement already satisfied: flask in /usr/local/lib/python3.6/dist-packages (1.1.2)\n",
            "Collecting gevent\n",
            "\u001b[?25l  Downloading https://files.pythonhosted.org/packages/f5/90/000736e587a720f8eef2bcd384456ce2add5ddfc3c63cf51a7ea13412cb6/gevent-21.1.2-cp36-cp36m-manylinux2010_x86_64.whl (5.5MB)\n",
            "\u001b[K     |████████████████████████████████| 5.5MB 18.4MB/s \n",
            "\u001b[?25hRequirement already satisfied: requests in /usr/local/lib/python3.6/dist-packages (2.23.0)\n",
            "Requirement already satisfied: pillow in /usr/local/lib/python3.6/dist-packages (7.0.0)\n",
            "Requirement already satisfied: click>=5.1 in /usr/local/lib/python3.6/dist-packages (from flask) (7.1.2)\n",
            "Requirement already satisfied: itsdangerous>=0.24 in /usr/local/lib/python3.6/dist-packages (from flask) (1.1.0)\n",
            "Requirement already satisfied: Jinja2>=2.10.1 in /usr/local/lib/python3.6/dist-packages (from flask) (2.11.2)\n",
            "Requirement already satisfied: Werkzeug>=0.15 in /usr/local/lib/python3.6/dist-packages (from flask) (1.0.1)\n",
            "Collecting greenlet<2.0,>=0.4.17; platform_python_implementation == \"CPython\"\n",
            "\u001b[?25l  Downloading https://files.pythonhosted.org/packages/22/e2/9fbb24cf1ee89813ded3761314562a83a2822ad2bf5682eef0d0c99e2a5d/greenlet-1.0.0-cp36-cp36m-manylinux2010_x86_64.whl (156kB)\n",
            "\u001b[K     |████████████████████████████████| 163kB 59.4MB/s \n",
            "\u001b[?25hCollecting zope.interface\n",
            "\u001b[?25l  Downloading https://files.pythonhosted.org/packages/82/b0/da8afd9b3bd50c7665ecdac062f182982af1173c9081f9af7261091c5588/zope.interface-5.2.0-cp36-cp36m-manylinux2010_x86_64.whl (236kB)\n",
            "\u001b[K     |████████████████████████████████| 245kB 53.2MB/s \n",
            "\u001b[?25hRequirement already satisfied: setuptools in /usr/local/lib/python3.6/dist-packages (from gevent) (51.3.3)\n",
            "Collecting zope.event\n",
            "  Downloading https://files.pythonhosted.org/packages/9e/85/b45408c64f3b888976f1d5b37eed8d746b8d5729a66a49ec846fda27d371/zope.event-4.5.0-py2.py3-none-any.whl\n",
            "Requirement already satisfied: chardet<4,>=3.0.2 in /usr/local/lib/python3.6/dist-packages (from requests) (3.0.4)\n",
            "Requirement already satisfied: idna<3,>=2.5 in /usr/local/lib/python3.6/dist-packages (from requests) (2.10)\n",
            "Requirement already satisfied: urllib3!=1.25.0,!=1.25.1,<1.26,>=1.21.1 in /usr/local/lib/python3.6/dist-packages (from requests) (1.24.3)\n",
            "Requirement already satisfied: certifi>=2017.4.17 in /usr/local/lib/python3.6/dist-packages (from requests) (2020.12.5)\n",
            "Requirement already satisfied: MarkupSafe>=0.23 in /usr/local/lib/python3.6/dist-packages (from Jinja2>=2.10.1->flask) (1.1.1)\n",
            "Installing collected packages: greenlet, zope.interface, zope.event, gevent\n",
            "Successfully installed gevent-21.1.2 greenlet-1.0.0 zope.event-4.5.0 zope.interface-5.2.0\n"
          ],
          "name": "stdout"
        }
      ]
    },
    {
      "cell_type": "code",
      "metadata": {
        "id": "sKqqKtDFhSeX"
      },
      "source": [
        "procfile = 'web: gunicorn app:app'\r\n",
        "procfiles= open(\"/content/Procfile\",\"w\")\r\n",
        "procfiles.write(procfile)\r\n",
        "procfiles.close()"
      ],
      "execution_count": 29,
      "outputs": []
    },
    {
      "cell_type": "code",
      "metadata": {
        "colab": {
          "base_uri": "https://localhost:8080/"
        },
        "id": "37Oe75JshShJ",
        "outputId": "98140354-d00f-4768-d3d1-9868346241c7"
      },
      "source": [
        "!pip install flask-ngrok\r\n",
        "from flask_ngrok import run_with_ngrok\r\n",
        "from flask import Flask"
      ],
      "execution_count": 30,
      "outputs": [
        {
          "output_type": "stream",
          "text": [
            "Collecting flask-ngrok\n",
            "  Downloading https://files.pythonhosted.org/packages/af/6c/f54cb686ad1129e27d125d182f90f52b32f284e6c8df58c1bae54fa1adbc/flask_ngrok-0.0.25-py3-none-any.whl\n",
            "Requirement already satisfied: requests in /usr/local/lib/python3.6/dist-packages (from flask-ngrok) (2.23.0)\n",
            "Requirement already satisfied: Flask>=0.8 in /usr/local/lib/python3.6/dist-packages (from flask-ngrok) (1.1.2)\n",
            "Requirement already satisfied: idna<3,>=2.5 in /usr/local/lib/python3.6/dist-packages (from requests->flask-ngrok) (2.10)\n",
            "Requirement already satisfied: urllib3!=1.25.0,!=1.25.1,<1.26,>=1.21.1 in /usr/local/lib/python3.6/dist-packages (from requests->flask-ngrok) (1.24.3)\n",
            "Requirement already satisfied: certifi>=2017.4.17 in /usr/local/lib/python3.6/dist-packages (from requests->flask-ngrok) (2020.12.5)\n",
            "Requirement already satisfied: chardet<4,>=3.0.2 in /usr/local/lib/python3.6/dist-packages (from requests->flask-ngrok) (3.0.4)\n",
            "Requirement already satisfied: click>=5.1 in /usr/local/lib/python3.6/dist-packages (from Flask>=0.8->flask-ngrok) (7.1.2)\n",
            "Requirement already satisfied: Werkzeug>=0.15 in /usr/local/lib/python3.6/dist-packages (from Flask>=0.8->flask-ngrok) (1.0.1)\n",
            "Requirement already satisfied: Jinja2>=2.10.1 in /usr/local/lib/python3.6/dist-packages (from Flask>=0.8->flask-ngrok) (2.11.2)\n",
            "Requirement already satisfied: itsdangerous>=0.24 in /usr/local/lib/python3.6/dist-packages (from Flask>=0.8->flask-ngrok) (1.1.0)\n",
            "Requirement already satisfied: MarkupSafe>=0.23 in /usr/local/lib/python3.6/dist-packages (from Jinja2>=2.10.1->Flask>=0.8->flask-ngrok) (1.1.1)\n",
            "Installing collected packages: flask-ngrok\n",
            "Successfully installed flask-ngrok-0.0.25\n"
          ],
          "name": "stdout"
        }
      ]
    },
    {
      "cell_type": "code",
      "metadata": {
        "id": "zgLWjgenhSjx"
      },
      "source": [
        "a = '''\r\n",
        "<!doctype html>\r\n",
        "<html lang=\"en\">\r\n",
        "<head>\r\n",
        "<title>My number recognizer</title>\r\n",
        "</head> \r\n",
        "  <body>\r\n",
        " \r\n",
        "          <h3>Image Recognition Server</h3>\r\n",
        "       \r\n",
        "      <form action=\"\" method=post enctype=multipart/form-data>\r\n",
        "        <input type=file name=file>\r\n",
        "        <input type=submit value=Upload>\r\n",
        "    </form>\r\n",
        "    {{label}}  \r\n",
        "     \r\n",
        "  </body>\r\n",
        "  </html>\r\n",
        "  '''"
      ],
      "execution_count": 31,
      "outputs": []
    },
    {
      "cell_type": "code",
      "metadata": {
        "id": "diHTbAUthSm4"
      },
      "source": [
        "!mkdir '/content/templates'\r\n",
        "!mkdir '/content/uploads'\r\n",
        "\r\n",
        "Html_file = open(\"/content/templates/index.html\", \"w\")\r\n",
        "Html_file.write(a)\r\n",
        "Html_file.close()"
      ],
      "execution_count": 32,
      "outputs": []
    },
    {
      "cell_type": "code",
      "metadata": {
        "colab": {
          "base_uri": "https://localhost:8080/"
        },
        "id": "J6hInARqhSqA",
        "outputId": "7cbce7e4-a766-4c9c-9f7d-3793d8d08ca7"
      },
      "source": [
        "import os\r\n",
        "import cv2\r\n",
        "import numpy as np\r\n",
        "from flask import Flask, render_template, request\r\n",
        "from keras.preprocessing import image\r\n",
        "from keras.preprocessing.image import load_img, img_to_array\r\n",
        "\r\n",
        "app = Flask(__name__)\r\n",
        "run_with_ngrok(app)\r\n",
        "app.config['UPLOADS'] = 'uploads'\r\n",
        "\r\n",
        "\r\n",
        "def load_mymodel():\r\n",
        "    global mymodel\r\n",
        "    mymodel = keras.models.load_model('best_model.h5')\r\n",
        "\r\n",
        "@app.route('/')\r\n",
        "def home():\r\n",
        "    return render_template('index.html')\r\n",
        "\r\n",
        "def rgb2gray(rgb):\r\n",
        "    r, g, b = rgb[:,:,0], rgb[:,:,1], rgb[:,:,2]\r\n",
        "    gray = 0.2989 * r + 0.5870 * g + 0.1140 * b\r\n",
        "    return gray\r\n",
        "\r\n",
        "def predictions(file):\r\n",
        "    \"\"\"img = image.load_img(file, target_size=(28,28), color_mode=\"grayscale\")\r\n",
        "    img = img_to_array(img)\"\"\"\r\n",
        "    img = cv2.imread(file)\r\n",
        "    img = cv2.cvtColor(img, cv2.COLOR_BGR2GRAY)\r\n",
        "    img = cv2.resize(img, (28,28))\r\n",
        "    img = np.resize(img, (1, 28*28))\r\n",
        "    \"\"\"img = np.expand_dims(img, axis=0)\"\"\"\r\n",
        "    ans = mymodel.predict_classes(img)\r\n",
        "    return ans\r\n",
        "\r\n",
        "\r\n",
        "@app.route('/', methods=['POST'])\r\n",
        "def upload_files():\r\n",
        "    file = request.files['file']\r\n",
        "    filepath = os.path.join(app.config['UPLOADS'], file.filename)\r\n",
        "    file.save(filepath)\r\n",
        "    output = predictions(filepath)\r\n",
        "    if output.astype('int32') == 0:\r\n",
        "      output = '0'\r\n",
        "    elif output.astype('int32') == 1:\r\n",
        "      output = '1'\r\n",
        "    elif output.astype('int32') == 2:\r\n",
        "      output = '2'\r\n",
        "    elif output.astype('int32') == 3:\r\n",
        "      output = '3'\r\n",
        "    elif output.astype('int32') == 4:\r\n",
        "      output = '4'\r\n",
        "    elif output.astype('int32') == 5:\r\n",
        "      output = '5'\r\n",
        "    elif output.astype('int32') == 6:\r\n",
        "      output = '6'\r\n",
        "    elif output.astype('int32') == 7:\r\n",
        "      output = '7'\r\n",
        "    elif output.astype('int32') == 8:\r\n",
        "      output = '8'\r\n",
        "    else:\r\n",
        "      output = '9'\r\n",
        "\r\n",
        "    return render_template('index.html', label=output)\r\n",
        "\r\n",
        "\r\n",
        "\r\n",
        "if __name__=='__main__':\r\n",
        "    load_mymodel()\r\n",
        "    app.run()"
      ],
      "execution_count": null,
      "outputs": [
        {
          "output_type": "stream",
          "text": [
            " * Serving Flask app \"__main__\" (lazy loading)\n",
            " * Environment: production\n",
            "\u001b[31m   WARNING: This is a development server. Do not use it in a production deployment.\u001b[0m\n",
            "\u001b[2m   Use a production WSGI server instead.\u001b[0m\n",
            " * Debug mode: off\n"
          ],
          "name": "stdout"
        },
        {
          "output_type": "stream",
          "text": [
            " * Running on http://127.0.0.1:5000/ (Press CTRL+C to quit)\n"
          ],
          "name": "stderr"
        },
        {
          "output_type": "stream",
          "text": [
            " * Running on http://a5d87de3c951.ngrok.io\n",
            " * Traffic stats available on http://127.0.0.1:4040\n"
          ],
          "name": "stdout"
        }
      ]
    },
    {
      "cell_type": "markdown",
      "metadata": {
        "id": "qK3CHr6Hqgii"
      },
      "source": [
        "## Performance in real world"
      ]
    },
    {
      "cell_type": "markdown",
      "metadata": {
        "id": "bGIIjHp2qkN4"
      },
      "source": [
        "### Testing Images\r\n",
        "\r\n",
        "![mnist_0.jpg](data:image/jpeg;base64,/9j/4AAQSkZJRgABAQAAAQABAAD/2wBDAAgGBgcGBQgHBwcJCQgKDBQNDAsLDBkSEw8UHRofHh0aHBwgJC4nICIsIxwcKDcpLDAxNDQ0Hyc5PTgyPC4zNDL/wAALCAAcABwBAREA/8QAHwAAAQUBAQEBAQEAAAAAAAAAAAECAwQFBgcICQoL/8QAtRAAAgEDAwIEAwUFBAQAAAF9AQIDAAQRBRIhMUEGE1FhByJxFDKBkaEII0KxwRVS0fAkM2JyggkKFhcYGRolJicoKSo0NTY3ODk6Q0RFRkdISUpTVFVWV1hZWmNkZWZnaGlqc3R1dnd4eXqDhIWGh4iJipKTlJWWl5iZmqKjpKWmp6ipqrKztLW2t7i5usLDxMXGx8jJytLT1NXW19jZ2uHi4+Tl5ufo6erx8vP09fb3+Pn6/9oACAEBAAA/APn+u98N/CjWNc0aPXL28sdG0ZwSLy/l2AjIAIB7EngkgHH0qDx38N7vwXb2eoR6la6ppN6cW95b8BjjPIyRyMkYJHFcTTo0aWRY0Us7EKqqMkk9hXr3xz1STT7rSPBNnlNL0q0iYA4zI+0qGOOOFH5sak0+ZdU/Zd1VLmJC2laiq27dwTJGSfriZx9K8bqxY3Is9QtroruEMqybc4zgg4/SvcviN4EvviPrVr4s8LXljd6ZdW6RySSTiPyGXOd2fqMjqD2rm/HWraN4d+Hth4B0TUY7+5Sf7RqdxCA0ZkxnarY55I6dl5rymiiiiv/Z)    ![mnist_1.jpg](data:image/jpeg;base64,/9j/4AAQSkZJRgABAQAAAQABAAD/2wBDAAgGBgcGBQgHBwcJCQgKDBQNDAsLDBkSEw8UHRofHh0aHBwgJC4nICIsIxwcKDcpLDAxNDQ0Hyc5PTgyPC4zNDL/wAALCAAcABwBAREA/8QAHwAAAQUBAQEBAQEAAAAAAAAAAAECAwQFBgcICQoL/8QAtRAAAgEDAwIEAwUFBAQAAAF9AQIDAAQRBRIhMUEGE1FhByJxFDKBkaEII0KxwRVS0fAkM2JyggkKFhcYGRolJicoKSo0NTY3ODk6Q0RFRkdISUpTVFVWV1hZWmNkZWZnaGlqc3R1dnd4eXqDhIWGh4iJipKTlJWWl5iZmqKjpKWmp6ipqrKztLW2t7i5usLDxMXGx8jJytLT1NXW19jZ2uHi4+Tl5ufo6erx8vP09fb3+Pn6/9oACAEBAAA/APn+uj8IeE28XXGp28V6ttNZ2Et4itGWEpTHy5yNvXrz9K5yiivV/wBnxd/xDulGOdMlHP8Avx15ZcQtbXMsDkF43KMR0yDio6K9G+BtwIPippwJUCSKZCS4X+Anv15HSuP8UtE/i7WmgKGE385jMZG0r5jYxjjGKyaKKKK//9k=)    ![mnist_2.jpg](data:image/jpeg;base64,/9j/4AAQSkZJRgABAQAAAQABAAD/2wBDAAgGBgcGBQgHBwcJCQgKDBQNDAsLDBkSEw8UHRofHh0aHBwgJC4nICIsIxwcKDcpLDAxNDQ0Hyc5PTgyPC4zNDL/wAALCAAcABwBAREA/8QAHwAAAQUBAQEBAQEAAAAAAAAAAAECAwQFBgcICQoL/8QAtRAAAgEDAwIEAwUFBAQAAAF9AQIDAAQRBRIhMUEGE1FhByJxFDKBkaEII0KxwRVS0fAkM2JyggkKFhcYGRolJicoKSo0NTY3ODk6Q0RFRkdISUpTVFVWV1hZWmNkZWZnaGlqc3R1dnd4eXqDhIWGh4iJipKTlJWWl5iZmqKjpKWmp6ipqrKztLW2t7i5usLDxMXGx8jJytLT1NXW19jZ2uHi4+Tl5ufo6erx8vP09fb3+Pn6/9oACAEBAAA/APn+vTPDHwP8TeJ9DtdXiuLCzt7kbo0uWcOU7NgKRgjkc81i+O/hvrPgW8xco1zp7ELHfIm1HYqCRjJIPUc9cHFcbSgEnABJ9BXaafH8Rrrw3NpdjBrkmjohLQLE/l7c5OOPUHgV6Fcw3um/sxXNt4hZo7qW5X7FDdLtlRfOU7QG5zgSH/dPpXhFel/Bzxj4a8H6vfzeILZy86ILe6WLzPI27i3HUZ+XkA9PQ16Pc/Hfw7pM91LaXusa20wDRxSQRQww9eAdob35DfWuNg+Ny67Dfab430SDUNLuQxjW2UK8BwcAZPPOPmyCOvPSvH6KKKK//9k=)    ![mnist_3.jpg](data:image/jpeg;base64,/9j/4AAQSkZJRgABAQAAAQABAAD/2wBDAAgGBgcGBQgHBwcJCQgKDBQNDAsLDBkSEw8UHRofHh0aHBwgJC4nICIsIxwcKDcpLDAxNDQ0Hyc5PTgyPC4zNDL/wAALCAAcABwBAREA/8QAHwAAAQUBAQEBAQEAAAAAAAAAAAECAwQFBgcICQoL/8QAtRAAAgEDAwIEAwUFBAQAAAF9AQIDAAQRBRIhMUEGE1FhByJxFDKBkaEII0KxwRVS0fAkM2JyggkKFhcYGRolJicoKSo0NTY3ODk6Q0RFRkdISUpTVFVWV1hZWmNkZWZnaGlqc3R1dnd4eXqDhIWGh4iJipKTlJWWl5iZmqKjpKWmp6ipqrKztLW2t7i5usLDxMXGx8jJytLT1NXW19jZ2uHi4+Tl5ufo6erx8vP09fb3+Pn6/9oACAEBAAA/APn+vTIvgf4imtYJItV0FriaNJFs/tjCb5gCBgpjODnr9M1neI/hF4s8MaJNrF7BayWMJXzJLe4D4UkANjgkZI6evpmuEor3f4d/Cbwrqnh+z1u9vzrF9ND5y6XFOsShhnKNzuOD1OR34Nc38UfE3iyOBPDl94dh8M6Ox3xWFqBslAIPLr8r4YA8AY4+teWV0Pg3wdqXjnXG0nS5bWKdYWmLXLlVCggdgSTlhwBW1pnwd8c6pd+SuiSWyA8zXTCJAMZzz8x/AE/rXQ/GTWrA6V4c8LQ6musX+kxH7Xf/AHssVUBQ2TnOMnk9FySc48jqa1u7mynWe0uJbeZekkTlGH4itG78VeItQszZ3uv6pc2pABhmvJHQgdPlJxWRRX//2Q==)    ![mnist_4.jpg](data:image/jpeg;base64,/9j/4AAQSkZJRgABAQAAAQABAAD/2wBDAAgGBgcGBQgHBwcJCQgKDBQNDAsLDBkSEw8UHRofHh0aHBwgJC4nICIsIxwcKDcpLDAxNDQ0Hyc5PTgyPC4zNDL/wAALCAAcABwBAREA/8QAHwAAAQUBAQEBAQEAAAAAAAAAAAECAwQFBgcICQoL/8QAtRAAAgEDAwIEAwUFBAQAAAF9AQIDAAQRBRIhMUEGE1FhByJxFDKBkaEII0KxwRVS0fAkM2JyggkKFhcYGRolJicoKSo0NTY3ODk6Q0RFRkdISUpTVFVWV1hZWmNkZWZnaGlqc3R1dnd4eXqDhIWGh4iJipKTlJWWl5iZmqKjpKWmp6ipqrKztLW2t7i5usLDxMXGx8jJytLT1NXW19jZ2uHi4+Tl5ufo6erx8vP09fb3+Pn6/9oACAEBAAA/APn+ul8HeBdb8c3lxb6PFGfs8fmSSzMVQei5wfmPYfyAzWNqulX2ianPpupW7W95AQskTYypIBHTjoQap1YsbK51K+gsrOFprmdxHFGvVmJwBXvWn2d54O8V+EvBdhYTpapcRXWq3whbbc3BXO0OQAUXjGP5g15Z8UriW6+J/iGSZtzC7aMHGPlUBVH5AVyFTWd5c6feRXdnPJBcwsHjljYqysOhBFeh/D/4ieJh430O1v8AxDqM9jLdpDJHNOZAwY453dskVt/E74h6vY+K9d8P3GjaFLGjNFHNNZB5RG6gqd2fvbWBzivG6KcjvFIskbMjqQyspwQR0INS3l7dahdyXd7czXNzIcvNNIXdjjHLHk1BX//Z)    ![mnist_5.jpg](data:image/jpeg;base64,/9j/4AAQSkZJRgABAQAAAQABAAD/2wBDAAgGBgcGBQgHBwcJCQgKDBQNDAsLDBkSEw8UHRofHh0aHBwgJC4nICIsIxwcKDcpLDAxNDQ0Hyc5PTgyPC4zNDL/wAALCAAcABwBAREA/8QAHwAAAQUBAQEBAQEAAAAAAAAAAAECAwQFBgcICQoL/8QAtRAAAgEDAwIEAwUFBAQAAAF9AQIDAAQRBRIhMUEGE1FhByJxFDKBkaEII0KxwRVS0fAkM2JyggkKFhcYGRolJicoKSo0NTY3ODk6Q0RFRkdISUpTVFVWV1hZWmNkZWZnaGlqc3R1dnd4eXqDhIWGh4iJipKTlJWWl5iZmqKjpKWmp6ipqrKztLW2t7i5usLDxMXGx8jJytLT1NXW19jZ2uHi4+Tl5ufo6erx8vP09fb3+Pn6/9oACAEBAAA/APn+tXSPDWua+X/sjSby9CffaCEsF+p6Cun/AOFNePPshuG0PaMZ2NcxBz+G7NcNLFJBM8MqFJI2Ksp6gjginWsUc93DFLKIo3kVWkPRATgn8K+jvEWm63oXgq0034UlZ9OVzLc3VjeLPPISvPGOM4B+Q/gK+fdYudZlvXh1ua+e6iO1kvWcuh9CG5FZ1dD4O8LP4w1iXSoL6C1uzbtJbLOcLNICPkz2OCx7/dqb/hH/ABp4U1krDp2rWV9C3ElvG/PPZl4YdOhIr0CW11rx94K1a78YaO9nf6Vamay1iWD7OZiDzHJnAbIHGOnPevGKVWKsGUkEdCKk+1XH/PeX/vs0jTzOu15XYehYmo6//9k=)    ![mnist_6.jpg](data:image/jpeg;base64,/9j/4AAQSkZJRgABAQAAAQABAAD/2wBDAAgGBgcGBQgHBwcJCQgKDBQNDAsLDBkSEw8UHRofHh0aHBwgJC4nICIsIxwcKDcpLDAxNDQ0Hyc5PTgyPC4zNDL/wAALCAAcABwBAREA/8QAHwAAAQUBAQEBAQEAAAAAAAAAAAECAwQFBgcICQoL/8QAtRAAAgEDAwIEAwUFBAQAAAF9AQIDAAQRBRIhMUEGE1FhByJxFDKBkaEII0KxwRVS0fAkM2JyggkKFhcYGRolJicoKSo0NTY3ODk6Q0RFRkdISUpTVFVWV1hZWmNkZWZnaGlqc3R1dnd4eXqDhIWGh4iJipKTlJWWl5iZmqKjpKWmp6ipqrKztLW2t7i5usLDxMXGx8jJytLT1NXW19jZ2uHi4+Tl5ufo6erx8vP09fb3+Pn6/9oACAEBAAA/APn+up8D+GLXxDfXtxqs8ttoum2zXN7PEQHAHCopII3M3A47GuXbbvOwELngE5OKSivZLfRdM0b4HadLq2oyWVrq901zcpbJvnutuRFEueAvG4k8A49a4jxR4Y06w8P6R4i0O6uZ9M1EyRMl0qiW3lTqrFeDnqCPSuSor1jUG03xp4O8LCfxZp2lWWl2gtr2znYmZHTI8yOIDLllx0PpmuP8V+I7LULWw0TRIJbfQ9N3+R5zZknkY/NK+OATgYA6CuXoooor/9k=)     ![mnist_7.jpg](data:image/jpeg;base64,/9j/4AAQSkZJRgABAQAAAQABAAD/2wBDAAgGBgcGBQgHBwcJCQgKDBQNDAsLDBkSEw8UHRofHh0aHBwgJC4nICIsIxwcKDcpLDAxNDQ0Hyc5PTgyPC4zNDL/wAALCAAcABwBAREA/8QAHwAAAQUBAQEBAQEAAAAAAAAAAAECAwQFBgcICQoL/8QAtRAAAgEDAwIEAwUFBAQAAAF9AQIDAAQRBRIhMUEGE1FhByJxFDKBkaEII0KxwRVS0fAkM2JyggkKFhcYGRolJicoKSo0NTY3ODk6Q0RFRkdISUpTVFVWV1hZWmNkZWZnaGlqc3R1dnd4eXqDhIWGh4iJipKTlJWWl5iZmqKjpKWmp6ipqrKztLW2t7i5usLDxMXGx8jJytLT1NXW19jZ2uHi4+Tl5ufo6erx8vP09fb3+Pn6/9oACAEBAAA/APA4Lea6nWC3hkmlf7scalmP0Aq9J4e1uGMyS6PqCRgZLNbOAB9cVBcaXqFpaQ3dzY3MNtOSIppIWVJCOoViMHHtVSrNhqF7pV4l5p91Na3KBgk0LlHXIIOCORwSPxr3D4fTfFnUtc0aXUrnVV0KWUGaWdU+aNRnncN2G4Ge+etcx8X5fGmr65e3eraZqNvoVpMVtBJFiFFOAG3Dgs31PXFeW0V7H8H/ABZrFz4p1bUdX1e+uLTTtHnumjklZo/kK/w5wOCfyrye/wBTvtUnM19eT3Lkk5mlZ8Z+p+lVKK1dJ8QX2i2Oq2lmyKmp232adiDuCbgx2nPGcYPXgmsqiv/Z)    ![mnist_8.jpg](data:image/jpeg;base64,/9j/4AAQSkZJRgABAQAAAQABAAD/2wBDAAgGBgcGBQgHBwcJCQgKDBQNDAsLDBkSEw8UHRofHh0aHBwgJC4nICIsIxwcKDcpLDAxNDQ0Hyc5PTgyPC4zNDL/wAALCAAcABwBAREA/8QAHwAAAQUBAQEBAQEAAAAAAAAAAAECAwQFBgcICQoL/8QAtRAAAgEDAwIEAwUFBAQAAAF9AQIDAAQRBRIhMUEGE1FhByJxFDKBkaEII0KxwRVS0fAkM2JyggkKFhcYGRolJicoKSo0NTY3ODk6Q0RFRkdISUpTVFVWV1hZWmNkZWZnaGlqc3R1dnd4eXqDhIWGh4iJipKTlJWWl5iZmqKjpKWmp6ipqrKztLW2t7i5usLDxMXGx8jJytLT1NXW19jZ2uHi4+Tl5ufo6erx8vP09fb3+Pn6/9oACAEBAAA/APAYopJpUiiRnkdgqooyWJ6ADua9O034C+L7+0WaebS9PcqGMF3cMJFBzgkKrAZx61yfjHwRq/ge/gtdU+zyLcR+ZDPbSb45B3wSAeOOo71zdbvgzWLfw/4z0jVruMyW9rcrJIAMnb3I9x1/CvR/FXwy1fxhr+p694V1uw16yvJjPsS8Aki3HcI2BOBtBwASOB0FZfxgEGk2/hbwokxkuNG0/Fzg5CySbSR+mfoRXl9KBkgZx717n4msdf8ABnh200j4faXePp11Ak93rdknnSXbMMYDLkoozx068dyanjCx1TUvg5Hq3jSy+ya/ZXKQ2U8uEnuojgFXXrkDceeflz658WorU0/xNr2kwGDTdb1KyiJyY7a7kjUn6KRUGo6xqesSiXU9RvL2RRgPcztIR+LE1Sr/2Q==)    ![mnist_9.jpg](data:image/jpeg;base64,/9j/4AAQSkZJRgABAQAAAQABAAD/2wBDAAgGBgcGBQgHBwcJCQgKDBQNDAsLDBkSEw8UHRofHh0aHBwgJC4nICIsIxwcKDcpLDAxNDQ0Hyc5PTgyPC4zNDL/wAALCAAcABwBAREA/8QAHwAAAQUBAQEBAQEAAAAAAAAAAAECAwQFBgcICQoL/8QAtRAAAgEDAwIEAwUFBAQAAAF9AQIDAAQRBRIhMUEGE1FhByJxFDKBkaEII0KxwRVS0fAkM2JyggkKFhcYGRolJicoKSo0NTY3ODk6Q0RFRkdISUpTVFVWV1hZWmNkZWZnaGlqc3R1dnd4eXqDhIWGh4iJipKTlJWWl5iZmqKjpKWmp6ipqrKztLW2t7i5usLDxMXGx8jJytLT1NXW19jZ2uHi4+Tl5ufo6erx8vP09fb3+Pn6/9oACAEBAAA/APn+tjR/Cuv6+QdK0i8ukJx5kcR8sfVz8o/E1Nr3gzxF4ZiWXWNLltoWfyxLlXQtjONykjp71g11ngLSdLvdRvtS1oGTTdItTezWy9bjDKqx8cgFmGT6fWqviTxprHia5ImmNvYg4g0+2+SCJegUIOOnGetdp4106z8IfCTQNBMMiatqky6ndrKw3x4QqARjgfNwO2DXlNaugeI9U8Magb7SbowTMhjcFQyyIeqspBBHsfSti6+I/iC4/wBV/Z1mcDDWmnQROp9Q4XcD9DXSfHVpYfFul6bLdtdSWOkwRSTOcu75bLMe5PB/GvLqKK0td17U/Euqyanq90bm8kCq0hRUyAMDhQAOB6Vm1//Z)"
      ]
    },
    {
      "cell_type": "markdown",
      "metadata": {
        "id": "aZhiZkRgtDY8"
      },
      "source": [
        "### Detection\r\n",
        "\r\n",
        "![image.png](data:image/png;base64,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)\r\n",
        "\r\n",
        "![image.png](data:image/png;base64,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)\r\n",
        "\r\n",
        "![image.png](data:image/png;base64,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)\r\n",
        "\r\n",
        "![image.png](data:image/png;base64,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)\r\n",
        "\r\n",
        "and so on..."
      ]
    },
    {
      "cell_type": "markdown",
      "metadata": {
        "id": "0T_9gnYTtLQq"
      },
      "source": [
        "The images of digits were classified with proper results, random images were classifed to the nearest digit the model thought of, as we have only 10 outputs here and not a misclassified or not regognized one."
      ]
    }
  ]
}